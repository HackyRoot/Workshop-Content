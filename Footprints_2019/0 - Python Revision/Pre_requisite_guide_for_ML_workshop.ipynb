{
 "cells": [
  {
   "cell_type": "markdown",
   "metadata": {},
   "source": [
    "## A short guide to Python"
   ]
  },
  {
   "cell_type": "markdown",
   "metadata": {},
   "source": [
    "Python is a snake. It is called as \"अजगर\" in Hindi language. We will be studying Python for the workshop.\n",
    "\n",
    "![alt text](https://img.purch.com/w/660/aHR0cDovL3d3dy5saXZlc2NpZW5jZS5jb20vaW1hZ2VzL2kvMDAwLzEwMS81MzMvb3JpZ2luYWwvc2h1dHRlcnN0b2NrXzY3OTQ0NTcwNC5qcGc=)\n"
   ]
  },
  {
   "cell_type": "markdown",
   "metadata": {},
   "source": [
    "But since working with Python is very dangerous, we are going to work with something Guido van Rossum did to make it more safe.\n",
    "\n",
    "**All hail Guido van Rossum!**\n",
    "\n",
    "**HAIL!**\n",
    "\n",
    "He made Python this:\n",
    "\n",
    "![alt text](https://upload.wikimedia.org/wikipedia/commons/thumb/c/c3/Python-logo-notext.svg/2000px-Python-logo-notext.svg.png)\n",
    "\n",
    "Our initial task is to guide you through Python with some basic stuff you might have learnt with C (We don't know if Java *really* helped you understand stuff) "
   ]
  },
  {
   "cell_type": "code",
   "execution_count": 1,
   "metadata": {
    "collapsed": false
   },
   "outputs": [
    {
     "name": "stdout",
     "output_type": "stream",
     "text": [
      "The Zen of Python, by Tim Peters\n",
      "\n",
      "Beautiful is better than ugly.\n",
      "Explicit is better than implicit.\n",
      "Simple is better than complex.\n",
      "Complex is better than complicated.\n",
      "Flat is better than nested.\n",
      "Sparse is better than dense.\n",
      "Readability counts.\n",
      "Special cases aren't special enough to break the rules.\n",
      "Although practicality beats purity.\n",
      "Errors should never pass silently.\n",
      "Unless explicitly silenced.\n",
      "In the face of ambiguity, refuse the temptation to guess.\n",
      "There should be one-- and preferably only one --obvious way to do it.\n",
      "Although that way may not be obvious at first unless you're Dutch.\n",
      "Now is better than never.\n",
      "Although never is often better than *right* now.\n",
      "If the implementation is hard to explain, it's a bad idea.\n",
      "If the implementation is easy to explain, it may be a good idea.\n",
      "Namespaces are one honking great idea -- let's do more of those!\n"
     ]
    }
   ],
   "source": [
    "# The zen of Python\n",
    "import this"
   ]
  },
  {
   "cell_type": "markdown",
   "metadata": {},
   "source": [
    "Remember this, fellas. When you go to a tech conference, you will be asked to repeat the Zen of Python. It's a sort of secret code for people to know you are a Pythonista. To be honest, I was only kidding. The Zen of Python was released as an Easter egg by Tim Peters, a prominent Python contributor. "
   ]
  },
  {
   "cell_type": "markdown",
   "metadata": {},
   "source": [
    "### Indentation and whitespace\n",
    "\n",
    "In Python, indentation matters a lot. Newbies often report bugs in their code to realise they did not have proper indentation. You might remember nightmares similar to {;} from C but indentation in Python makes code easy to read. "
   ]
  },
  {
   "cell_type": "code",
   "execution_count": 2,
   "metadata": {
    "collapsed": true
   },
   "outputs": [],
   "source": [
    "reality_is_a_simulation = 1\n",
    "other_global_variable = \"This Is a String!\"\n",
    "\n",
    "def pick_a_random_number(random_argument_LOL):\n",
    "    a_local_variable = \"Only the best organically grown local variables!\"\n",
    "    for element in random_argument_LOL:\n",
    "        if reality_is_a_simulation:\n",
    "            print(\"42\")"
   ]
  },
  {
   "cell_type": "markdown",
   "metadata": {},
   "source": [
    "### Python Enhancement Proposal\n",
    "\n",
    "> PEP stands for Python Enhancement Proposal. A PEP is a design document providing information to the Python community, or describing a new feature for Python or its processes or environment. The PEP should provide a concise technical specification of the feature and a rationale for the feature.\n",
    "\n",
    "PEP 8 which how the \"default\" style rules one should adhere to. The nice thing about PEP 8 is that most editors out there either support it directly or have plugins you can install that will automatically check your code for any failure to comply. PEP 8 while being the most diffuse style is not the only one (i.e. Google Python Style) you should be trying as much to adhere to it whenever it is reasonable to do so. Do not fail however to follow the best advice inside PEP 8:\n",
    "\n"
   ]
  },
  {
   "cell_type": "markdown",
   "metadata": {},
   "source": [
    "### Strings\n",
    "\n",
    "![alt text](https://rohitmehta355.files.wordpress.com/2015/04/sheldon.jpg)\n",
    "\n",
    "Yes, we will be teaching you graduate physics! Although in a Pythonic way!\n",
    "\n"
   ]
  },
  {
   "cell_type": "code",
   "execution_count": 3,
   "metadata": {
    "collapsed": true
   },
   "outputs": [],
   "source": [
    "string_1='You are in my spot'\n",
    "string_2= \"Bazinga!\"\n",
    "string_3=\"\"\"\n",
    "You went to MIT?\n",
    "Yes.\n",
    "My condolences\"\"\""
   ]
  },
  {
   "cell_type": "code",
   "execution_count": 4,
   "metadata": {
    "collapsed": false
   },
   "outputs": [
    {
     "name": "stdout",
     "output_type": "stream",
     "text": [
      "You are in my spot\n",
      "Bazinga!\n",
      "\n",
      "You went to MIT?\n",
      "Yes.\n",
      "My condolences\n"
     ]
    }
   ],
   "source": [
    "print(string_1+\"\\n\"+string_2+\"\\n\"+string_3)"
   ]
  },
  {
   "cell_type": "markdown",
   "metadata": {},
   "source": [
    "### Some data structures in Python\n",
    "\n",
    "#### Lists"
   ]
  },
  {
   "cell_type": "code",
   "execution_count": 5,
   "metadata": {
    "collapsed": false
   },
   "outputs": [
    {
     "name": "stdout",
     "output_type": "stream",
     "text": [
      "4\n"
     ]
    }
   ],
   "source": [
    "x = [1, 2, 3]\n",
    "x.append(0) # x is now [1, 2, 3, 0]\n",
    "y = x[-1] # equals 0\n",
    "z = len(x) # equals 4\n",
    "print(z)"
   ]
  },
  {
   "cell_type": "markdown",
   "metadata": {},
   "source": [
    "It is often convenient to unpack lists if you know how many elements they contain.Although you will get a ValueError if you don’t have the same numbers of elements on both sides. It’s common to use an underscore for a value you’re going to throw away\n"
   ]
  },
  {
   "cell_type": "markdown",
   "metadata": {},
   "source": [
    "#### Tuples\n",
    "\n",
    "Tuples are lists’ immutable cousins. Pretty much anything you can do to a list that doesn’t involve modifying it, you can do to a tuple. You specify a tuple by using parentheses (or nothing) instead of square brackets:\n"
   ]
  },
  {
   "cell_type": "code",
   "execution_count": 7,
   "metadata": {
    "collapsed": false
   },
   "outputs": [
    {
     "name": "stdout",
     "output_type": "stream",
     "text": [
      "cannot modify a tuple\n"
     ]
    }
   ],
   "source": [
    "my_list = [1, 2]\n",
    "my_tuple = (1, 2)\n",
    "other_tuple = 3, 4\n",
    "my_list[1] = 3 # my_list is now [1, 3]\n",
    "try:\n",
    "    my_tuple[1] = 3\n",
    "except TypeError:\n",
    "    print (\"cannot modify a tuple\")"
   ]
  },
  {
   "cell_type": "markdown",
   "metadata": {},
   "source": [
    "#### Dictionaries\n",
    "\n",
    "Dictionary associates values with keys and allows you to quickly retrieve the value corresponding to a given key."
   ]
  },
  {
   "cell_type": "code",
   "execution_count": 9,
   "metadata": {
    "collapsed": false
   },
   "outputs": [
    {
     "name": "stdout",
     "output_type": "stream",
     "text": [
      "no grade for Kate!\n"
     ]
    }
   ],
   "source": [
    "empty_dict = {} \n",
    "empty_dict2 = dict()\n",
    "grades = { \"Joel\" : 80, \"Tim\" : 95 } \n",
    "try:\n",
    "    kates_grade = grades[\"Kate\"]\n",
    "except KeyError:\n",
    "    print(\"no grade for Kate!\")\n",
    "joels_grade = grades.get(\"Joel\", 0) # equals 80\n",
    "kates_grade = grades.get(\"Kate\", 0) # equals 0\n",
    "no_ones_grade = grades.get(\"No One\") # default default is None"
   ]
  },
  {
   "cell_type": "markdown",
   "metadata": {},
   "source": [
    "Dictionary keys must be **immutable**; in particular, you cannot **use lists as keys**. If you need a multipart key, you should use a tuple or figure out a way to turn the key into a string."
   ]
  },
  {
   "cell_type": "markdown",
   "metadata": {},
   "source": [
    "### Loops\n",
    "\n",
    "#### The if elif else"
   ]
  },
  {
   "cell_type": "code",
   "execution_count": null,
   "metadata": {
    "collapsed": true
   },
   "outputs": [],
   "source": [
    "if you_are_reading_this:\n",
    "    you_are_learning_Python()\n",
    "elif you_are_looking_at_this:\n",
    "    you_are_passing_time()\n",
    "else:\n",
    "    you_are_searching_for_more_memes"
   ]
  },
  {
   "cell_type": "markdown",
   "metadata": {},
   "source": [
    "#### For loop\n",
    "\n",
    "The for is used with iterable, object like list, tuple, strings and dictionaries are all iterable offering you the possibility to loop through their items.\n"
   ]
  },
  {
   "cell_type": "code",
   "execution_count": 12,
   "metadata": {
    "collapsed": false
   },
   "outputs": [
    {
     "name": "stdout",
     "output_type": "stream",
     "text": [
      "It's Fibonacci, not fibonachi\n",
      "It's Fibonacci, not fibonachi\n",
      "It's Fibonacci, not fibonachi\n",
      "It's Fibonacci, not fibonachi\n",
      "It's Fibonacci, not fibonachi\n",
      "It's Fibonacci, not fibonachi\n",
      "It's Fibonacci, not fibonachi\n"
     ]
    }
   ],
   "source": [
    "fibonachi = [ 1, 1, 2, 3, 5, 8, 13]\n",
    "for n in fibonachi:\n",
    "    print(\"It's Fibonacci, not fibonachi\")\n"
   ]
  },
  {
   "cell_type": "markdown",
   "metadata": {},
   "source": [
    "#### While + (break)\n",
    "\n",
    "while is used to create a loop that goes on as long as the condition after while is True OR break has been called. A classic example of an infinite while + break:\n",
    "\n"
   ]
  },
  {
   "cell_type": "code",
   "execution_count": null,
   "metadata": {
    "collapsed": true
   },
   "outputs": [],
   "source": [
    "while True:\n",
    "    repeat_this_action()\n",
    "    if this_is_true_the_loop_will_ends:\n",
    "        break"
   ]
  },
  {
   "cell_type": "markdown",
   "metadata": {},
   "source": [
    "### Functions\n",
    "\n",
    "Function, in a way similar to mathematics, is a rule established between 0 or more objects and returning (with a return) a corresponding output. In python a function is defined using def:\n",
    "\n"
   ]
  },
  {
   "cell_type": "code",
   "execution_count": 13,
   "metadata": {
    "collapsed": true
   },
   "outputs": [],
   "source": [
    "def name_of_the_fucntion(zero_or_more_arguments):\n",
    "    \"\"\"\n",
    "    Docstring describing what the function does\n",
    "    \"\"\"\n",
    "    something_something = blablabla\n",
    "    return something_something"
   ]
  },
  {
   "cell_type": "markdown",
   "metadata": {},
   "source": [
    "![alt text](https://camo.githubusercontent.com/a92b679f3e662988342b0d5d09723d14854b635a/68747470733a2f2f692e726564642e69742f3030383234796377336877792e6a7067)"
   ]
  },
  {
   "cell_type": "markdown",
   "metadata": {},
   "source": [
    "### Import libraries\n",
    "\n",
    "Just like you use the universal `#include<stdio.h>` Python uses `import` to import libraries neede din the program."
   ]
  },
  {
   "cell_type": "code",
   "execution_count": 14,
   "metadata": {
    "collapsed": true
   },
   "outputs": [],
   "source": [
    "import numpy as np\n",
    "import sklearn"
   ]
  },
  {
   "cell_type": "markdown",
   "metadata": {},
   "source": [
    "And that's it! You know the basic concepts of Python! If you read this guide and tried to code the same lines in your Python console, you don't need help in the workshop. If you tried this using YouTube and still face issues , then we would surely help you. And if you ignored this guide or just skimmed across the guide lazily on your phone, then God help you!"
   ]
  }
 ],
 "metadata": {
  "anaconda-cloud": {},
  "kernelspec": {
   "display_name": "Python [default]",
   "language": "python",
   "name": "python3"
  },
  "language_info": {
   "codemirror_mode": {
    "name": "ipython",
    "version": 3
   },
   "file_extension": ".py",
   "mimetype": "text/x-python",
   "name": "python",
   "nbconvert_exporter": "python",
   "pygments_lexer": "ipython3",
   "version": "3.5.2"
  }
 },
 "nbformat": 4,
 "nbformat_minor": 2
}
